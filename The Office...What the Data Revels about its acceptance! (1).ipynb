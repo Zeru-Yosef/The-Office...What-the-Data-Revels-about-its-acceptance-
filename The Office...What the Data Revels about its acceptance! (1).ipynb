{
 "cells": [
  {
   "cell_type": "code",
   "execution_count": 1,
   "metadata": {},
   "outputs": [],
   "source": [
    "#Procedure to import numpy and pandas\n",
    "import pandas as pd\n",
    "import numpy as np"
   ]
  },
  {
   "cell_type": "code",
   "execution_count": 2,
   "metadata": {},
   "outputs": [],
   "source": [
    "#Importing CSV data using backward arrow to call the file path\n",
    "Office_Data = pd.read_csv(r\"C:\\Users\\Yosef\\Downloads\\the_office_series.csv\")"
   ]
  },
  {
   "cell_type": "code",
   "execution_count": 3,
   "metadata": {},
   "outputs": [],
   "source": [
    "#Importing CSV data using forward arrow to call the file path\n",
    "Office_Data1 = pd.read_csv(\"C:/Users/Yosef/Downloads/the_office_series.csv\")"
   ]
  },
  {
   "cell_type": "code",
   "execution_count": 4,
   "metadata": {},
   "outputs": [
    {
     "data": {
      "text/html": [
       "<div>\n",
       "<style scoped>\n",
       "    .dataframe tbody tr th:only-of-type {\n",
       "        vertical-align: middle;\n",
       "    }\n",
       "\n",
       "    .dataframe tbody tr th {\n",
       "        vertical-align: top;\n",
       "    }\n",
       "\n",
       "    .dataframe thead th {\n",
       "        text-align: right;\n",
       "    }\n",
       "</style>\n",
       "<table border=\"1\" class=\"dataframe\">\n",
       "  <thead>\n",
       "    <tr style=\"text-align: right;\">\n",
       "      <th></th>\n",
       "      <th>Unnamed: 0</th>\n",
       "      <th>Season</th>\n",
       "      <th>EpisodeTitle</th>\n",
       "      <th>About</th>\n",
       "      <th>Ratings</th>\n",
       "      <th>Votes</th>\n",
       "      <th>Viewership</th>\n",
       "      <th>Duration</th>\n",
       "      <th>Date</th>\n",
       "      <th>GuestStars</th>\n",
       "      <th>Director</th>\n",
       "      <th>Writers</th>\n",
       "    </tr>\n",
       "  </thead>\n",
       "  <tbody>\n",
       "    <tr>\n",
       "      <th>0</th>\n",
       "      <td>0</td>\n",
       "      <td>1</td>\n",
       "      <td>Pilot</td>\n",
       "      <td>The premiere episode introduces the boss and s...</td>\n",
       "      <td>7.5</td>\n",
       "      <td>4936</td>\n",
       "      <td>11.2</td>\n",
       "      <td>23</td>\n",
       "      <td>24 March 2005</td>\n",
       "      <td>NaN</td>\n",
       "      <td>Ken Kwapis</td>\n",
       "      <td>Ricky Gervais |Stephen Merchant and Greg Daniels</td>\n",
       "    </tr>\n",
       "    <tr>\n",
       "      <th>1</th>\n",
       "      <td>1</td>\n",
       "      <td>1</td>\n",
       "      <td>Diversity Day</td>\n",
       "      <td>Michael's off color remark puts a sensitivity ...</td>\n",
       "      <td>8.3</td>\n",
       "      <td>4801</td>\n",
       "      <td>6.0</td>\n",
       "      <td>23</td>\n",
       "      <td>29 March 2005</td>\n",
       "      <td>NaN</td>\n",
       "      <td>Ken Kwapis</td>\n",
       "      <td>B. J. Novak</td>\n",
       "    </tr>\n",
       "    <tr>\n",
       "      <th>2</th>\n",
       "      <td>2</td>\n",
       "      <td>1</td>\n",
       "      <td>Health Care</td>\n",
       "      <td>Michael leaves Dwight in charge of picking the...</td>\n",
       "      <td>7.8</td>\n",
       "      <td>4024</td>\n",
       "      <td>5.8</td>\n",
       "      <td>22</td>\n",
       "      <td>5 April 2005</td>\n",
       "      <td>NaN</td>\n",
       "      <td>Ken Whittingham</td>\n",
       "      <td>Paul Lieberstein</td>\n",
       "    </tr>\n",
       "    <tr>\n",
       "      <th>3</th>\n",
       "      <td>3</td>\n",
       "      <td>1</td>\n",
       "      <td>The Alliance</td>\n",
       "      <td>Just for a laugh, Jim agrees to an alliance wi...</td>\n",
       "      <td>8.1</td>\n",
       "      <td>3915</td>\n",
       "      <td>5.4</td>\n",
       "      <td>23</td>\n",
       "      <td>12 April 2005</td>\n",
       "      <td>NaN</td>\n",
       "      <td>Bryan Gordon</td>\n",
       "      <td>Michael Schur</td>\n",
       "    </tr>\n",
       "    <tr>\n",
       "      <th>4</th>\n",
       "      <td>4</td>\n",
       "      <td>1</td>\n",
       "      <td>Basketball</td>\n",
       "      <td>Michael and his staff challenge the warehouse ...</td>\n",
       "      <td>8.4</td>\n",
       "      <td>4294</td>\n",
       "      <td>5.0</td>\n",
       "      <td>23</td>\n",
       "      <td>19 April 2005</td>\n",
       "      <td>NaN</td>\n",
       "      <td>Greg Daniels</td>\n",
       "      <td>Greg Daniels</td>\n",
       "    </tr>\n",
       "  </tbody>\n",
       "</table>\n",
       "</div>"
      ],
      "text/plain": [
       "   Unnamed: 0  Season   EpisodeTitle  \\\n",
       "0           0       1          Pilot   \n",
       "1           1       1  Diversity Day   \n",
       "2           2       1    Health Care   \n",
       "3           3       1   The Alliance   \n",
       "4           4       1     Basketball   \n",
       "\n",
       "                                               About  Ratings  Votes  \\\n",
       "0  The premiere episode introduces the boss and s...      7.5   4936   \n",
       "1  Michael's off color remark puts a sensitivity ...      8.3   4801   \n",
       "2  Michael leaves Dwight in charge of picking the...      7.8   4024   \n",
       "3  Just for a laugh, Jim agrees to an alliance wi...      8.1   3915   \n",
       "4  Michael and his staff challenge the warehouse ...      8.4   4294   \n",
       "\n",
       "   Viewership  Duration            Date GuestStars         Director  \\\n",
       "0        11.2        23   24 March 2005        NaN       Ken Kwapis   \n",
       "1         6.0        23   29 March 2005        NaN       Ken Kwapis   \n",
       "2         5.8        22    5 April 2005        NaN  Ken Whittingham   \n",
       "3         5.4        23   12 April 2005        NaN     Bryan Gordon   \n",
       "4         5.0        23   19 April 2005        NaN     Greg Daniels   \n",
       "\n",
       "                                            Writers  \n",
       "0  Ricky Gervais |Stephen Merchant and Greg Daniels  \n",
       "1                                       B. J. Novak  \n",
       "2                                  Paul Lieberstein  \n",
       "3                                     Michael Schur  \n",
       "4                                      Greg Daniels  "
      ]
     },
     "execution_count": 4,
     "metadata": {},
     "output_type": "execute_result"
    }
   ],
   "source": [
    "Office_Data.head()"
   ]
  },
  {
   "cell_type": "code",
   "execution_count": 5,
   "metadata": {},
   "outputs": [
    {
     "name": "stdout",
     "output_type": "stream",
     "text": [
      "<class 'pandas.core.frame.DataFrame'>\n",
      "RangeIndex: 188 entries, 0 to 187\n",
      "Data columns (total 12 columns):\n",
      " #   Column        Non-Null Count  Dtype  \n",
      "---  ------        --------------  -----  \n",
      " 0   Unnamed: 0    188 non-null    int64  \n",
      " 1   Season        188 non-null    int64  \n",
      " 2   EpisodeTitle  188 non-null    object \n",
      " 3   About         188 non-null    object \n",
      " 4   Ratings       188 non-null    float64\n",
      " 5   Votes         188 non-null    int64  \n",
      " 6   Viewership    188 non-null    float64\n",
      " 7   Duration      188 non-null    int64  \n",
      " 8   Date          188 non-null    object \n",
      " 9   GuestStars    29 non-null     object \n",
      " 10  Director      188 non-null    object \n",
      " 11  Writers       188 non-null    object \n",
      "dtypes: float64(2), int64(4), object(6)\n",
      "memory usage: 17.8+ KB\n"
     ]
    }
   ],
   "source": [
    "Office_Data.info()"
   ]
  },
  {
   "cell_type": "code",
   "execution_count": 6,
   "metadata": {},
   "outputs": [
    {
     "data": {
      "text/plain": [
       "(188, 12)"
      ]
     },
     "execution_count": 6,
     "metadata": {},
     "output_type": "execute_result"
    }
   ],
   "source": [
    "Office_Data.shape"
   ]
  },
  {
   "cell_type": "code",
   "execution_count": 7,
   "metadata": {},
   "outputs": [
    {
     "name": "stdout",
     "output_type": "stream",
     "text": [
      "<class 'pandas.core.frame.DataFrame'>\n",
      "RangeIndex: 188 entries, 0 to 187\n",
      "Data columns (total 13 columns):\n",
      " #   Column               Non-Null Count  Dtype  \n",
      "---  ------               --------------  -----  \n",
      " 0   Unnamed: 0           188 non-null    int64  \n",
      " 1   Season               188 non-null    int64  \n",
      " 2   EpisodeTitle         188 non-null    object \n",
      " 3   About                188 non-null    object \n",
      " 4   Ratings              188 non-null    float64\n",
      " 5   Votes                188 non-null    int64  \n",
      " 6   Viewership           188 non-null    float64\n",
      " 7   Duration             188 non-null    int64  \n",
      " 8   Date                 188 non-null    object \n",
      " 9   GuestStars           29 non-null     object \n",
      " 10  Director             188 non-null    object \n",
      " 11  Writers              188 non-null    object \n",
      " 12  Guests_participated  188 non-null    bool   \n",
      "dtypes: bool(1), float64(2), int64(4), object(6)\n",
      "memory usage: 17.9+ KB\n",
      "None\n"
     ]
    }
   ],
   "source": [
    "#manage Null Values by creating similar column without missing values\n",
    "Office_Data[\"Guests_participated\"] = np.where(Office_Data.GuestStars.isnull(), False, True)\n",
    "print(Office_Data.info())"
   ]
  },
  {
   "cell_type": "code",
   "execution_count": 8,
   "metadata": {},
   "outputs": [],
   "source": [
    "#Rename unnamed column as Episode_Number\n",
    "Office_Data = Office_Data.rename(columns={\"Unnamed: 0\" : \"Episode_Number\"})"
   ]
  },
  {
   "cell_type": "code",
   "execution_count": 9,
   "metadata": {},
   "outputs": [
    {
     "data": {
      "text/plain": [
       "Index(['Episode_Number', 'Season', 'EpisodeTitle', 'About', 'Ratings', 'Votes',\n",
       "       'Viewership', 'Duration', 'Date', 'GuestStars', 'Director', 'Writers',\n",
       "       'Guests_participated'],\n",
       "      dtype='object')"
      ]
     },
     "execution_count": 9,
     "metadata": {},
     "output_type": "execute_result"
    }
   ],
   "source": [
    "#To See columen names in the Office Data Set.\n",
    "Office_Data.columns"
   ]
  },
  {
   "cell_type": "code",
   "execution_count": 15,
   "metadata": {},
   "outputs": [],
   "source": [
    "#Change the index from the first column to Episode_Number\n",
    "#Office_Data = Office_Data.reset_index(\"Episode_Number\")"
   ]
  },
  {
   "cell_type": "code",
   "execution_count": 16,
   "metadata": {},
   "outputs": [
    {
     "name": "stdout",
     "output_type": "stream",
     "text": [
      "<class 'pandas.core.frame.DataFrame'>\n",
      "RangeIndex: 188 entries, 0 to 187\n",
      "Data columns (total 14 columns):\n",
      " #   Column               Non-Null Count  Dtype  \n",
      "---  ------               --------------  -----  \n",
      " 0   Episode_Number       188 non-null    int64  \n",
      " 1   Season               188 non-null    int64  \n",
      " 2   EpisodeTitle         188 non-null    object \n",
      " 3   About                188 non-null    object \n",
      " 4   Ratings              188 non-null    float64\n",
      " 5   Votes                188 non-null    int64  \n",
      " 6   Viewership           188 non-null    float64\n",
      " 7   Duration             188 non-null    int64  \n",
      " 8   Date                 188 non-null    object \n",
      " 9   GuestStars           29 non-null     object \n",
      " 10  Director             188 non-null    object \n",
      " 11  Writers              188 non-null    object \n",
      " 12  Guests_participated  188 non-null    bool   \n",
      " 13  Ratings_Normal       188 non-null    float64\n",
      "dtypes: bool(1), float64(3), int64(4), object(6)\n",
      "memory usage: 19.4+ KB\n",
      "None\n"
     ]
    }
   ],
   "source": [
    "#import MinMax Scaler and Normalize the New column Ratings_Normal\n",
    "from sklearn.preprocessing import MinMaxScaler\n",
    "scaler = MinMaxScaler()\n",
    "Office_Data[[\"Ratings_Normal\"]] = scaler.fit_transform(Office_Data[[\"Ratings\"]])\n",
    "print(Office_Data.info())"
   ]
  },
  {
   "cell_type": "code",
   "execution_count": 63,
   "metadata": {},
   "outputs": [
    {
     "data": {
      "text/plain": [
       "Index(['Episode_Number', 'Season', 'EpisodeTitle', 'About', 'Ratings', 'Votes',\n",
       "       'Viewership', 'Duration', 'Date', 'GuestStars', 'Director', 'Writers',\n",
       "       'Guests_participated', 'Ratings_Normal'],\n",
       "      dtype='object')"
      ]
     },
     "execution_count": 63,
     "metadata": {},
     "output_type": "execute_result"
    }
   ],
   "source": [
    "Office_Data.columns"
   ]
  },
  {
   "cell_type": "code",
   "execution_count": 48,
   "metadata": {},
   "outputs": [
    {
     "data": {
      "text/html": [
       "<div>\n",
       "<style scoped>\n",
       "    .dataframe tbody tr th:only-of-type {\n",
       "        vertical-align: middle;\n",
       "    }\n",
       "\n",
       "    .dataframe tbody tr th {\n",
       "        vertical-align: top;\n",
       "    }\n",
       "\n",
       "    .dataframe thead th {\n",
       "        text-align: right;\n",
       "    }\n",
       "</style>\n",
       "<table border=\"1\" class=\"dataframe\">\n",
       "  <thead>\n",
       "    <tr style=\"text-align: right;\">\n",
       "      <th></th>\n",
       "      <th>min</th>\n",
       "      <th>max</th>\n",
       "      <th>median</th>\n",
       "      <th>mean</th>\n",
       "    </tr>\n",
       "    <tr>\n",
       "      <th>Season</th>\n",
       "      <th></th>\n",
       "      <th></th>\n",
       "      <th></th>\n",
       "      <th></th>\n",
       "    </tr>\n",
       "  </thead>\n",
       "  <tbody>\n",
       "    <tr>\n",
       "      <th>1</th>\n",
       "      <td>0.28125</td>\n",
       "      <td>0.56250</td>\n",
       "      <td>0.421875</td>\n",
       "      <td>0.427083</td>\n",
       "    </tr>\n",
       "    <tr>\n",
       "      <th>2</th>\n",
       "      <td>0.37500</td>\n",
       "      <td>0.87500</td>\n",
       "      <td>0.562500</td>\n",
       "      <td>0.575284</td>\n",
       "    </tr>\n",
       "    <tr>\n",
       "      <th>3</th>\n",
       "      <td>0.40625</td>\n",
       "      <td>0.84375</td>\n",
       "      <td>0.625000</td>\n",
       "      <td>0.620924</td>\n",
       "    </tr>\n",
       "    <tr>\n",
       "      <th>4</th>\n",
       "      <td>0.37500</td>\n",
       "      <td>0.90625</td>\n",
       "      <td>0.609375</td>\n",
       "      <td>0.613839</td>\n",
       "    </tr>\n",
       "    <tr>\n",
       "      <th>5</th>\n",
       "      <td>0.43750</td>\n",
       "      <td>0.96875</td>\n",
       "      <td>0.562500</td>\n",
       "      <td>0.590144</td>\n",
       "    </tr>\n",
       "    <tr>\n",
       "      <th>6</th>\n",
       "      <td>0.06250</td>\n",
       "      <td>0.87500</td>\n",
       "      <td>0.468750</td>\n",
       "      <td>0.498798</td>\n",
       "    </tr>\n",
       "    <tr>\n",
       "      <th>7</th>\n",
       "      <td>0.25000</td>\n",
       "      <td>1.00000</td>\n",
       "      <td>0.500000</td>\n",
       "      <td>0.533854</td>\n",
       "    </tr>\n",
       "    <tr>\n",
       "      <th>8</th>\n",
       "      <td>0.00000</td>\n",
       "      <td>0.46875</td>\n",
       "      <td>0.343750</td>\n",
       "      <td>0.313802</td>\n",
       "    </tr>\n",
       "    <tr>\n",
       "      <th>9</th>\n",
       "      <td>0.12500</td>\n",
       "      <td>1.00000</td>\n",
       "      <td>0.375000</td>\n",
       "      <td>0.410326</td>\n",
       "    </tr>\n",
       "  </tbody>\n",
       "</table>\n",
       "</div>"
      ],
      "text/plain": [
       "            min      max    median      mean\n",
       "Season                                      \n",
       "1       0.28125  0.56250  0.421875  0.427083\n",
       "2       0.37500  0.87500  0.562500  0.575284\n",
       "3       0.40625  0.84375  0.625000  0.620924\n",
       "4       0.37500  0.90625  0.609375  0.613839\n",
       "5       0.43750  0.96875  0.562500  0.590144\n",
       "6       0.06250  0.87500  0.468750  0.498798\n",
       "7       0.25000  1.00000  0.500000  0.533854\n",
       "8       0.00000  0.46875  0.343750  0.313802\n",
       "9       0.12500  1.00000  0.375000  0.410326"
      ]
     },
     "execution_count": 48,
     "metadata": {},
     "output_type": "execute_result"
    }
   ],
   "source": [
    "#To get mean value of each Seasons Ratings.\n",
    "Office_Data.groupby(\"Season\")[\"Ratings_Normal\"].agg([min, max, np.median, np.mean])"
   ]
  },
  {
   "cell_type": "code",
   "execution_count": 61,
   "metadata": {
    "scrolled": false
   },
   "outputs": [
    {
     "data": {
      "image/png": "[encoded data removed]",
      "text/plain": [
       "<Figure size 432x288 with 1 Axes>"
      ]
     },
     "metadata": {
      "needs_background": "light"
     },
     "output_type": "display_data"
    }
   ],
   "source": [
    "import matplotlib.pyplot as plt\n",
    "Office_Data.plot(x=\"Date\", y=\"Viewership\", kind=\"line\", rot=45)\n",
    "plt.show()"
   ]
  },
  {
   "cell_type": "code",
   "execution_count": 64,
   "metadata": {},
   "outputs": [],
   "source": [
    "# create a column called colors\n",
    "colors = []\n",
    "for lab, row in Office_Data.iterrows():\n",
    "    if row['Ratings_Normal'] < 0.25:\n",
    "        colors.append(\"red\")\n",
    "    elif 0.25 <= row['Ratings_Normal'] < 0.50:\n",
    "        colors.append(\"orange\")\n",
    "    elif 0.50 <= row['Ratings_Normal'] < 0.75:\n",
    "        colors.append(\"lightgreen\")\n",
    "    else:\n",
    "        colors.append(\"darkgreen\")"
   ]
  },
  {
   "cell_type": "code",
   "execution_count": 65,
   "metadata": {},
   "outputs": [],
   "source": [
    "#Create a column called SIZE\n",
    "sizes = []\n",
    "\n",
    "for lab, row in Office_Data.iterrows():\n",
    "    if row['Guests_participated'] == True:\n",
    "        sizes.append(250)\n",
    "    else:\n",
    "        sizes.append(25)"
   ]
  },
  {
   "cell_type": "code",
   "execution_count": 67,
   "metadata": {},
   "outputs": [
    {
     "data": {
      "text/plain": [
       "<AxesSubplot:xlabel='Season'>"
      ]
     },
     "execution_count": 67,
     "metadata": {},
     "output_type": "execute_result"
    },
    {
     "data": {
      "image/png": "[encoded data removed]",
      "text/plain": [
       "<Figure size 432x288 with 1 Axes>"
      ]
     },
     "metadata": {
      "needs_background": "light"
     },
     "output_type": "display_data"
    }
   ],
   "source": [
    "Office_Data.groupby(\"Season\")[\"Ratings_Normal\"].mean().plot.bar(rot=0)"
   ]
  },
  {
   "cell_type": "code",
   "execution_count": 71,
   "metadata": {},
   "outputs": [
    {
     "data": {
      "text/plain": [
       "<AxesSubplot:xlabel='Season'>"
      ]
     },
     "execution_count": 71,
     "metadata": {},
     "output_type": "execute_result"
    },
    {
     "data": {
      "image/png": "[encoded data removed]",
      "text/plain": [
       "<Figure size 432x288 with 1 Axes>"
      ]
     },
     "metadata": {
      "needs_background": "light"
     },
     "output_type": "display_data"
    }
   ],
   "source": [
    "Office_Data.groupby(\"Season\")[\"Viewership\"].sum().plot.bar(rot=0)"
   ]
  },
  {
   "cell_type": "code",
   "execution_count": 70,
   "metadata": {},
   "outputs": [
    {
     "data": {
      "text/plain": [
       "<AxesSubplot:xlabel='Season'>"
      ]
     },
     "execution_count": 70,
     "metadata": {},
     "output_type": "execute_result"
    },
    {
     "data": {
      "image/png": "[encoded data removed]",
      "text/plain": [
       "<Figure size 432x288 with 1 Axes>"
      ]
     },
     "metadata": {
      "needs_background": "light"
     },
     "output_type": "display_data"
    }
   ],
   "source": [
    "Office_Data.groupby(\"Season\")[\"Guests_participated\"].sum().plot.bar(rot=0)"
   ]
  },
  {
   "cell_type": "code",
   "execution_count": 72,
   "metadata": {},
   "outputs": [
    {
     "data": {
      "image/png": "[encoded data removed]",
      "text/plain": [
       "<Figure size 792x504 with 1 Axes>"
      ]
     },
     "metadata": {
      "needs_background": "light"
     },
     "output_type": "display_data"
    }
   ],
   "source": [
    "#Create Scatter Plot\n",
    "fig = plt.figure(figsize=(11,7))\n",
    "plt.scatter(Office_Data[\"Episode_Number\"], Office_Data[\"Viewership\"], c = colors, s = sizes)\n",
    "plt.title('Popularity, Quality, and Guest Appearances on the Office')\n",
    "plt.xlabel('Episode Number')\n",
    "plt.ylabel('Viewership (Millions)')\n",
    "plt.show()"
   ]
  },
  {
   "cell_type": "code",
   "execution_count": 79,
   "metadata": {},
   "outputs": [
    {
     "name": "stdout",
     "output_type": "stream",
     "text": [
      "                                   GuestStars\n",
      "77  Cloris Leachman, Jack Black, Jessica Alba\n",
      "Jack Black\n"
     ]
    }
   ],
   "source": [
    "#Answer for the Guest Stars with Higest Viewers\n",
    "Most_Watched = max(Office_Data[\"Viewership\"])\n",
    "most_watched_film = Office_Data.loc[Office_Data[\"Viewership\"] == Most_Watched]\n",
    "top_star = most_watched_film[[\"GuestStars\"]]\n",
    "print(top_star)\n",
    "top_star = 'Jack Black'\n",
    "print(top_star)\n"
   ]
  },
  {
   "cell_type": "code",
   "execution_count": null,
   "metadata": {},
   "outputs": [],
   "source": []
  }
 ],
 "metadata": {
  "kernelspec": {
   "display_name": "Python 3",
   "language": "python",
   "name": "python3"
  },
  "language_info": {
   "codemirror_mode": {
    "name": "ipython",
    "version": 3
   },
   "file_extension": ".py",
   "mimetype": "text/x-python",
   "name": "python",
   "nbconvert_exporter": "python",
   "pygments_lexer": "ipython3",
   "version": "3.8.5"
  }
 },
 "nbformat": 4,
 "nbformat_minor": 4
}
